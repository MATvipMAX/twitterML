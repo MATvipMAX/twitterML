{
 "cells": [
  {
   "cell_type": "code",
   "execution_count": 34,
   "metadata": {
    "collapsed": true
   },
   "outputs": [],
   "source": [
    "import numpy as np\n",
    "import pandas as pd\n",
    "import matplotlib.pyplot as plt"
   ]
  },
  {
   "cell_type": "code",
   "execution_count": 35,
   "metadata": {},
   "outputs": [],
   "source": [
    "import regex as re\n",
    "\n",
    "\n",
    "def check_retweet(tweettext):\n",
    "    pattern = re.compile(r\"rt @\\w+\")\n",
    "    if re.search(pattern, tweettext.lower()):\n",
    "        return True\n",
    "    return False"
   ]
  },
  {
   "cell_type": "code",
   "execution_count": 36,
   "metadata": {},
   "outputs": [],
   "source": [
    "DIR = '~/Project/Data/'\n",
    "\n",
    "users = pd.read_csv(DIR + 'fewnew_final_users.csv', encoding='utf-8')"
   ]
  },
  {
   "cell_type": "code",
   "execution_count": 37,
   "metadata": {},
   "outputs": [],
   "source": [
    "DIR = '/media/bright/DATA/New_datasets_062019/'\n",
    "\n",
    "d1 = pd.read_csv(DIR + 'depressed_tweets_0119.csv', encoding='utf-8')\n",
    "d2 = pd.read_csv(DIR + 'depressed_tweets_0219.csv', encoding='utf-8')\n",
    "d3 = pd.read_csv(DIR + 'depressed_tweets_0319.csv', encoding='utf-8')\n",
    "d4 = pd.read_csv(DIR + 'depressed_tweets_0419.csv', encoding='utf-8')\n",
    "d5 = pd.read_csv(DIR + 'depressed_tweets_0619.csv', encoding='utf-8')\n",
    "\n",
    "depress = pd.concat([d1, d2, d3, d4, d5])\n",
    "\n",
    "del d1, d2, d3, d4, d5"
   ]
  },
  {
   "cell_type": "code",
   "execution_count": 38,
   "metadata": {},
   "outputs": [],
   "source": [
    "c1 = pd.read_csv(DIR + 'control_users_new062019_tweets_1.csv', encoding='utf-8')\n",
    "c2 = pd.read_csv(DIR + 'control_users_new062019_tweets_2.csv', encoding='utf-8')\n",
    "\n",
    "control = pd.concat([c1, c2])\n",
    "\n",
    "del c1, c2"
   ]
  },
  {
   "cell_type": "code",
   "execution_count": 39,
   "metadata": {},
   "outputs": [
    {
     "data": {
      "text/plain": [
       "2085"
      ]
     },
     "execution_count": 39,
     "metadata": {},
     "output_type": "execute_result"
    }
   ],
   "source": [
    "len(depress.userid.unique())"
   ]
  },
  {
   "cell_type": "code",
   "execution_count": 40,
   "metadata": {},
   "outputs": [
    {
     "data": {
      "text/plain": [
       "2036"
      ]
     },
     "execution_count": 40,
     "metadata": {},
     "output_type": "execute_result"
    }
   ],
   "source": [
    "len(control.userid.unique())"
   ]
  },
  {
   "cell_type": "code",
   "execution_count": 41,
   "metadata": {},
   "outputs": [
    {
     "data": {
      "text/plain": [
       "1755"
      ]
     },
     "execution_count": 41,
     "metadata": {},
     "output_type": "execute_result"
    }
   ],
   "source": [
    "control = control[control.userid.isin(users.userid)]\n",
    "\n",
    "len(control.userid.unique())"
   ]
  },
  {
   "cell_type": "code",
   "execution_count": 42,
   "metadata": {},
   "outputs": [
    {
     "data": {
      "text/plain": [
       "2001"
      ]
     },
     "execution_count": 42,
     "metadata": {},
     "output_type": "execute_result"
    }
   ],
   "source": [
    "depress = depress[depress.userid.isin(users.userid)]\n",
    "\n",
    "len(depress.userid.unique())"
   ]
  },
  {
   "cell_type": "code",
   "execution_count": 43,
   "metadata": {},
   "outputs": [
    {
     "data": {
      "text/plain": [
       "(5088431, 6)"
      ]
     },
     "execution_count": 43,
     "metadata": {},
     "output_type": "execute_result"
    }
   ],
   "source": [
    "depress.shape"
   ]
  },
  {
   "cell_type": "code",
   "execution_count": 44,
   "metadata": {},
   "outputs": [
    {
     "data": {
      "text/plain": [
       "(4996601, 6)"
      ]
     },
     "execution_count": 44,
     "metadata": {},
     "output_type": "execute_result"
    }
   ],
   "source": [
    "depress.drop_duplicates('tweetid', inplace=True)\n",
    "depress.shape #4996601"
   ]
  },
  {
   "cell_type": "code",
   "execution_count": 45,
   "metadata": {},
   "outputs": [
    {
     "data": {
      "text/plain": [
       "(4231128, 6)"
      ]
     },
     "execution_count": 45,
     "metadata": {},
     "output_type": "execute_result"
    }
   ],
   "source": [
    "control.shape"
   ]
  },
  {
   "cell_type": "code",
   "execution_count": 46,
   "metadata": {},
   "outputs": [
    {
     "data": {
      "text/plain": [
       "(4162556, 6)"
      ]
     },
     "execution_count": 46,
     "metadata": {},
     "output_type": "execute_result"
    }
   ],
   "source": [
    "control.drop_duplicates('tweetid', inplace=True)\n",
    "control.shape #4162556, 4996601"
   ]
  },
  {
   "cell_type": "code",
   "execution_count": 47,
   "metadata": {},
   "outputs": [
    {
     "data": {
      "text/html": [
       "<div>\n",
       "<style scoped>\n",
       "    .dataframe tbody tr th:only-of-type {\n",
       "        vertical-align: middle;\n",
       "    }\n",
       "\n",
       "    .dataframe tbody tr th {\n",
       "        vertical-align: top;\n",
       "    }\n",
       "\n",
       "    .dataframe thead th {\n",
       "        text-align: right;\n",
       "    }\n",
       "</style>\n",
       "<table border=\"1\" class=\"dataframe\">\n",
       "  <thead>\n",
       "    <tr style=\"text-align: right;\">\n",
       "      <th></th>\n",
       "      <th>tweet</th>\n",
       "    </tr>\n",
       "    <tr>\n",
       "      <th>userid</th>\n",
       "      <th></th>\n",
       "    </tr>\n",
       "  </thead>\n",
       "  <tbody>\n",
       "    <tr>\n",
       "      <td>802310</td>\n",
       "      <td>3234</td>\n",
       "    </tr>\n",
       "    <tr>\n",
       "      <td>5882452</td>\n",
       "      <td>3245</td>\n",
       "    </tr>\n",
       "    <tr>\n",
       "      <td>6111852</td>\n",
       "      <td>3222</td>\n",
       "    </tr>\n",
       "    <tr>\n",
       "      <td>9426292</td>\n",
       "      <td>3216</td>\n",
       "    </tr>\n",
       "    <tr>\n",
       "      <td>10857562</td>\n",
       "      <td>3161</td>\n",
       "    </tr>\n",
       "    <tr>\n",
       "      <td>...</td>\n",
       "      <td>...</td>\n",
       "    </tr>\n",
       "    <tr>\n",
       "      <td>1126406027400892416</td>\n",
       "      <td>525</td>\n",
       "    </tr>\n",
       "    <tr>\n",
       "      <td>1127904814908592129</td>\n",
       "      <td>314</td>\n",
       "    </tr>\n",
       "    <tr>\n",
       "      <td>1128461955168120833</td>\n",
       "      <td>377</td>\n",
       "    </tr>\n",
       "    <tr>\n",
       "      <td>1130249220760461312</td>\n",
       "      <td>278</td>\n",
       "    </tr>\n",
       "    <tr>\n",
       "      <td>1131798343825416197</td>\n",
       "      <td>214</td>\n",
       "    </tr>\n",
       "  </tbody>\n",
       "</table>\n",
       "<p>2001 rows × 1 columns</p>\n",
       "</div>"
      ],
      "text/plain": [
       "<div>\n",
       "<style scoped>\n",
       "    .dataframe tbody tr th:only-of-type {\n",
       "        vertical-align: middle;\n",
       "    }\n",
       "\n",
       "    .dataframe tbody tr th {\n",
       "        vertical-align: top;\n",
       "    }\n",
       "\n",
       "    .dataframe thead th {\n",
       "        text-align: right;\n",
       "    }\n",
       "</style>\n",
       "<table border=\"1\" class=\"dataframe\">\n",
       "  <thead>\n",
       "    <tr style=\"text-align: right;\">\n",
       "      <th></th>\n",
       "      <th>tweet</th>\n",
       "    </tr>\n",
       "    <tr>\n",
       "      <th>userid</th>\n",
       "      <th></th>\n",
       "    </tr>\n",
       "  </thead>\n",
       "  <tbody>\n",
       "    <tr>\n",
       "      <td>802310</td>\n",
       "      <td>3234</td>\n",
       "    </tr>\n",
       "    <tr>\n",
       "      <td>5882452</td>\n",
       "      <td>3245</td>\n",
       "    </tr>\n",
       "    <tr>\n",
       "      <td>6111852</td>\n",
       "      <td>3222</td>\n",
       "    </tr>\n",
       "    <tr>\n",
       "      <td>9426292</td>\n",
       "      <td>3216</td>\n",
       "    </tr>\n",
       "    <tr>\n",
       "      <td>10857562</td>\n",
       "      <td>3161</td>\n",
       "    </tr>\n",
       "    <tr>\n",
       "      <td>...</td>\n",
       "      <td>...</td>\n",
       "    </tr>\n",
       "    <tr>\n",
       "      <td>1126406027400892416</td>\n",
       "      <td>525</td>\n",
       "    </tr>\n",
       "    <tr>\n",
       "      <td>1127904814908592129</td>\n",
       "      <td>314</td>\n",
       "    </tr>\n",
       "    <tr>\n",
       "      <td>1128461955168120833</td>\n",
       "      <td>377</td>\n",
       "    </tr>\n",
       "    <tr>\n",
       "      <td>1130249220760461312</td>\n",
       "      <td>278</td>\n",
       "    </tr>\n",
       "    <tr>\n",
       "      <td>1131798343825416197</td>\n",
       "      <td>214</td>\n",
       "    </tr>\n",
       "  </tbody>\n",
       "</table>\n",
       "<p>2001 rows × 1 columns</p>\n",
       "</div>"
      ]
     },
     "execution_count": 47,
     "metadata": {},
     "output_type": "execute_result"
    }
   ],
   "source": [
    "depress.groupby('userid').count()[['tweet']]"
   ]
  },
  {
   "cell_type": "code",
   "execution_count": 48,
   "metadata": {
    "collapsed": true
   },
   "outputs": [
    {
     "data": {
      "text/plain": [
       "{'whiskers': [<matplotlib.lines.Line2D at 0x7f83060f4c88>,\n",
       "  <matplotlib.lines.Line2D at 0x7f82abece0b8>],\n",
       " 'caps': [<matplotlib.lines.Line2D at 0x7f82abece438>,\n",
       "  <matplotlib.lines.Line2D at 0x7f82abece7b8>],\n",
       " 'boxes': [<matplotlib.lines.Line2D at 0x7f83060f4b00>],\n",
       " 'medians': [<matplotlib.lines.Line2D at 0x7f82abeceb38>],\n",
       " 'fliers': [<matplotlib.lines.Line2D at 0x7f82abeceeb8>],\n",
       " 'means': []}"
      ]
     },
     "execution_count": 48,
     "metadata": {},
     "output_type": "execute_result"
    },
    {
     "data": {
      "image/png": "[encoded data removed]",
      "text/plain": [
       "<Figure size 432x288 with 1 Axes>"
      ]
     },
     "metadata": {},
     "output_type": "display_data"
    }
   ],
   "source": [
    "control_tweets = control.groupby('userid').count()[['tweet']].tweet.values\n",
    "\n",
    "fig1, ax1 = plt.subplots()\n",
    "ax1.set_title('Basic Plot')\n",
    "ax1.boxplot(control_tweets)"
   ]
  },
  {
   "cell_type": "code",
   "execution_count": 49,
   "metadata": {
    "collapsed": true
   },
   "outputs": [
    {
     "data": {
      "text/plain": [
       "{'whiskers': [<matplotlib.lines.Line2D at 0x7f830605d208>,\n",
       "  <matplotlib.lines.Line2D at 0x7f830605d5f8>],\n",
       " 'caps': [<matplotlib.lines.Line2D at 0x7f830605d978>,\n",
       "  <matplotlib.lines.Line2D at 0x7f830605dcf8>],\n",
       " 'boxes': [<matplotlib.lines.Line2D at 0x7f830605d080>],\n",
       " 'medians': [<matplotlib.lines.Line2D at 0x7f83060680b8>],\n",
       " 'fliers': [<matplotlib.lines.Line2D at 0x7f8306068438>],\n",
       " 'means': []}"
      ]
     },
     "execution_count": 49,
     "metadata": {},
     "output_type": "execute_result"
    },
    {
     "data": {
      "image/png": "[encoded data removed]",
      "text/plain": [
       "<Figure size 432x288 with 1 Axes>"
      ]
     },
     "metadata": {},
     "output_type": "display_data"
    }
   ],
   "source": [
    "depress_tweets = depress.groupby('userid').count()[['tweet']].tweet.values\n",
    "\n",
    "fig1, ax1 = plt.subplots()\n",
    "ax1.set_title('Basic Plot')\n",
    "ax1.boxplot(depress_tweets)"
   ]
  },
  {
   "cell_type": "code",
   "execution_count": 50,
   "metadata": {
    "collapsed": true
   },
   "outputs": [
    {
     "data": {
      "text/plain": [
       "3091.0"
      ]
     },
     "execution_count": 50,
     "metadata": {},
     "output_type": "execute_result"
    }
   ],
   "source": [
    "np.median(sorted(depress_tweets))"
   ]
  },
  {
   "cell_type": "code",
   "execution_count": 51,
   "metadata": {},
   "outputs": [
    {
     "data": {
      "text/plain": [
       "3121.0"
      ]
     },
     "execution_count": 51,
     "metadata": {},
     "output_type": "execute_result"
    }
   ],
   "source": [
    "np.median(sorted(control_tweets))"
   ]
  },
  {
   "cell_type": "code",
   "execution_count": 52,
   "metadata": {},
   "outputs": [
    {
     "data": {
      "text/plain": [
       "{'whiskers': [<matplotlib.lines.Line2D at 0x7f830603c4a8>,\n",
       "  <matplotlib.lines.Line2D at 0x7f830603c860>,\n",
       "  <matplotlib.lines.Line2D at 0x7f8306048da0>,\n",
       "  <matplotlib.lines.Line2D at 0x7f8306050160>],\n",
       " 'caps': [<matplotlib.lines.Line2D at 0x7f830603cbe0>,\n",
       "  <matplotlib.lines.Line2D at 0x7f830603cf60>,\n",
       "  <matplotlib.lines.Line2D at 0x7f83060504e0>,\n",
       "  <matplotlib.lines.Line2D at 0x7f8306050860>],\n",
       " 'boxes': [<matplotlib.lines.Line2D at 0x7f830603c0f0>,\n",
       "  <matplotlib.lines.Line2D at 0x7f83060489e8>],\n",
       " 'medians': [<matplotlib.lines.Line2D at 0x7f8306048320>,\n",
       "  <matplotlib.lines.Line2D at 0x7f8306050be0>],\n",
       " 'fliers': [<matplotlib.lines.Line2D at 0x7f83060486a0>,\n",
       "  <matplotlib.lines.Line2D at 0x7f8306050f60>],\n",
       " 'means': []}"
      ]
     },
     "execution_count": 52,
     "metadata": {},
     "output_type": "execute_result"
    },
    {
     "data": {
      "image/png": "[encoded data removed]",
      "text/plain": [
       "<Figure size 432x288 with 1 Axes>"
      ]
     },
     "metadata": {},
     "output_type": "display_data"
    }
   ],
   "source": [
    "fig1, ax1 = plt.subplots()\n",
    "ax1.set_title('Basic Plot')\n",
    "ax1.boxplot([depress_tweets, control_tweets])"
   ]
  },
  {
   "cell_type": "code",
   "execution_count": 53,
   "metadata": {},
   "outputs": [],
   "source": [
    "depress['words'] = depress.tweet.str.lower().str.split()\n",
    "depress['words'] = depress.words.apply(len)"
   ]
  },
  {
   "cell_type": "code",
   "execution_count": 54,
   "metadata": {},
   "outputs": [],
   "source": [
    "control['words'] = control.tweet.str.lower().str.split()\n",
    "control['words'] = control.words.apply(len)"
   ]
  },
  {
   "cell_type": "code",
   "execution_count": 55,
   "metadata": {
    "collapsed": true
   },
   "outputs": [
    {
     "data": {
      "text/html": [
       "<div>\n",
       "<style scoped>\n",
       "    .dataframe tbody tr th:only-of-type {\n",
       "        vertical-align: middle;\n",
       "    }\n",
       "\n",
       "    .dataframe tbody tr th {\n",
       "        vertical-align: top;\n",
       "    }\n",
       "\n",
       "    .dataframe thead th {\n",
       "        text-align: right;\n",
       "    }\n",
       "</style>\n",
       "<table border=\"1\" class=\"dataframe\">\n",
       "  <thead>\n",
       "    <tr style=\"text-align: right;\">\n",
       "      <th></th>\n",
       "      <th>tweetid</th>\n",
       "      <th>favorite_count</th>\n",
       "      <th>words</th>\n",
       "    </tr>\n",
       "    <tr>\n",
       "      <th>userid</th>\n",
       "      <th></th>\n",
       "      <th></th>\n",
       "      <th></th>\n",
       "    </tr>\n",
       "  </thead>\n",
       "  <tbody>\n",
       "    <tr>\n",
       "      <td>456413</td>\n",
       "      <td>7.326954e+17</td>\n",
       "      <td>0.402183</td>\n",
       "      <td>16.994962</td>\n",
       "    </tr>\n",
       "    <tr>\n",
       "      <td>759251</td>\n",
       "      <td>1.134110e+18</td>\n",
       "      <td>583.520988</td>\n",
       "      <td>30.091667</td>\n",
       "    </tr>\n",
       "    <tr>\n",
       "      <td>1448441</td>\n",
       "      <td>8.848288e+17</td>\n",
       "      <td>1.222042</td>\n",
       "      <td>13.631767</td>\n",
       "    </tr>\n",
       "    <tr>\n",
       "      <td>2557521</td>\n",
       "      <td>1.114025e+18</td>\n",
       "      <td>6444.534488</td>\n",
       "      <td>15.592329</td>\n",
       "    </tr>\n",
       "    <tr>\n",
       "      <td>5994222</td>\n",
       "      <td>1.062950e+18</td>\n",
       "      <td>189.869591</td>\n",
       "      <td>8.806490</td>\n",
       "    </tr>\n",
       "    <tr>\n",
       "      <td>...</td>\n",
       "      <td>...</td>\n",
       "      <td>...</td>\n",
       "      <td>...</td>\n",
       "    </tr>\n",
       "    <tr>\n",
       "      <td>1135500228797378560</td>\n",
       "      <td>1.136766e+18</td>\n",
       "      <td>5.893345</td>\n",
       "      <td>8.795807</td>\n",
       "    </tr>\n",
       "    <tr>\n",
       "      <td>1135569749449105409</td>\n",
       "      <td>1.136611e+18</td>\n",
       "      <td>1.125731</td>\n",
       "      <td>8.421053</td>\n",
       "    </tr>\n",
       "    <tr>\n",
       "      <td>1135646585621286915</td>\n",
       "      <td>1.137379e+18</td>\n",
       "      <td>113.802974</td>\n",
       "      <td>7.133829</td>\n",
       "    </tr>\n",
       "    <tr>\n",
       "      <td>1135654154578419713</td>\n",
       "      <td>1.136365e+18</td>\n",
       "      <td>0.422983</td>\n",
       "      <td>20.157702</td>\n",
       "    </tr>\n",
       "    <tr>\n",
       "      <td>1135674849068769280</td>\n",
       "      <td>1.137070e+18</td>\n",
       "      <td>0.850220</td>\n",
       "      <td>11.655286</td>\n",
       "    </tr>\n",
       "  </tbody>\n",
       "</table>\n",
       "<p>1755 rows × 3 columns</p>\n",
       "</div>"
      ],
      "text/plain": [
       "<div>\n",
       "<style scoped>\n",
       "    .dataframe tbody tr th:only-of-type {\n",
       "        vertical-align: middle;\n",
       "    }\n",
       "\n",
       "    .dataframe tbody tr th {\n",
       "        vertical-align: top;\n",
       "    }\n",
       "\n",
       "    .dataframe thead th {\n",
       "        text-align: right;\n",
       "    }\n",
       "</style>\n",
       "<table border=\"1\" class=\"dataframe\">\n",
       "  <thead>\n",
       "    <tr style=\"text-align: right;\">\n",
       "      <th></th>\n",
       "      <th>tweetid</th>\n",
       "      <th>favorite_count</th>\n",
       "      <th>words</th>\n",
       "    </tr>\n",
       "    <tr>\n",
       "      <th>userid</th>\n",
       "      <th></th>\n",
       "      <th></th>\n",
       "      <th></th>\n",
       "    </tr>\n",
       "  </thead>\n",
       "  <tbody>\n",
       "    <tr>\n",
       "      <td>456413</td>\n",
       "      <td>7.326954e+17</td>\n",
       "      <td>0.402183</td>\n",
       "      <td>16.994962</td>\n",
       "    </tr>\n",
       "    <tr>\n",
       "      <td>759251</td>\n",
       "      <td>1.134110e+18</td>\n",
       "      <td>583.520988</td>\n",
       "      <td>30.091667</td>\n",
       "    </tr>\n",
       "    <tr>\n",
       "      <td>1448441</td>\n",
       "      <td>8.848288e+17</td>\n",
       "      <td>1.222042</td>\n",
       "      <td>13.631767</td>\n",
       "    </tr>\n",
       "    <tr>\n",
       "      <td>2557521</td>\n",
       "      <td>1.114025e+18</td>\n",
       "      <td>6444.534488</td>\n",
       "      <td>15.592329</td>\n",
       "    </tr>\n",
       "    <tr>\n",
       "      <td>5994222</td>\n",
       "      <td>1.062950e+18</td>\n",
       "      <td>189.869591</td>\n",
       "      <td>8.806490</td>\n",
       "    </tr>\n",
       "    <tr>\n",
       "      <td>...</td>\n",
       "      <td>...</td>\n",
       "      <td>...</td>\n",
       "      <td>...</td>\n",
       "    </tr>\n",
       "    <tr>\n",
       "      <td>1135500228797378560</td>\n",
       "      <td>1.136766e+18</td>\n",
       "      <td>5.893345</td>\n",
       "      <td>8.795807</td>\n",
       "    </tr>\n",
       "    <tr>\n",
       "      <td>1135569749449105409</td>\n",
       "      <td>1.136611e+18</td>\n",
       "      <td>1.125731</td>\n",
       "      <td>8.421053</td>\n",
       "    </tr>\n",
       "    <tr>\n",
       "      <td>1135646585621286915</td>\n",
       "      <td>1.137379e+18</td>\n",
       "      <td>113.802974</td>\n",
       "      <td>7.133829</td>\n",
       "    </tr>\n",
       "    <tr>\n",
       "      <td>1135654154578419713</td>\n",
       "      <td>1.136365e+18</td>\n",
       "      <td>0.422983</td>\n",
       "      <td>20.157702</td>\n",
       "    </tr>\n",
       "    <tr>\n",
       "      <td>1135674849068769280</td>\n",
       "      <td>1.137070e+18</td>\n",
       "      <td>0.850220</td>\n",
       "      <td>11.655286</td>\n",
       "    </tr>\n",
       "  </tbody>\n",
       "</table>\n",
       "<p>1755 rows × 3 columns</p>\n",
       "</div>"
      ]
     },
     "execution_count": 55,
     "metadata": {},
     "output_type": "execute_result"
    }
   ],
   "source": [
    "control.groupby('userid').mean()"
   ]
  },
  {
   "cell_type": "code",
   "execution_count": 58,
   "metadata": {},
   "outputs": [],
   "source": [
    "control['retweet'] = control.tweet.apply(check_retweet)"
   ]
  },
  {
   "cell_type": "code",
   "execution_count": 59,
   "metadata": {},
   "outputs": [],
   "source": [
    "depress['retweet'] = depress.tweet.apply(check_retweet)"
   ]
  },
  {
   "cell_type": "code",
   "execution_count": 60,
   "metadata": {
    "collapsed": true
   },
   "outputs": [
    {
     "data": {
      "text/html": [
       "<div>\n",
       "<style scoped>\n",
       "    .dataframe tbody tr th:only-of-type {\n",
       "        vertical-align: middle;\n",
       "    }\n",
       "\n",
       "    .dataframe tbody tr th {\n",
       "        vertical-align: top;\n",
       "    }\n",
       "\n",
       "    .dataframe thead th {\n",
       "        text-align: right;\n",
       "    }\n",
       "</style>\n",
       "<table border=\"1\" class=\"dataframe\">\n",
       "  <thead>\n",
       "    <tr style=\"text-align: right;\">\n",
       "      <th></th>\n",
       "      <th>tweetid</th>\n",
       "      <th>favorite_count</th>\n",
       "      <th>retweet</th>\n",
       "    </tr>\n",
       "    <tr>\n",
       "      <th>userid</th>\n",
       "      <th></th>\n",
       "      <th></th>\n",
       "      <th></th>\n",
       "    </tr>\n",
       "  </thead>\n",
       "  <tbody>\n",
       "    <tr>\n",
       "      <td>802310</td>\n",
       "      <td>9.635461e+17</td>\n",
       "      <td>1.319419</td>\n",
       "      <td>0.064007</td>\n",
       "    </tr>\n",
       "    <tr>\n",
       "      <td>5882452</td>\n",
       "      <td>1.120518e+18</td>\n",
       "      <td>2.510940</td>\n",
       "      <td>0.118336</td>\n",
       "    </tr>\n",
       "    <tr>\n",
       "      <td>6111852</td>\n",
       "      <td>1.111515e+18</td>\n",
       "      <td>0.327436</td>\n",
       "      <td>0.352266</td>\n",
       "    </tr>\n",
       "    <tr>\n",
       "      <td>9426292</td>\n",
       "      <td>1.131266e+18</td>\n",
       "      <td>1.336754</td>\n",
       "      <td>0.553172</td>\n",
       "    </tr>\n",
       "    <tr>\n",
       "      <td>10857562</td>\n",
       "      <td>9.841916e+17</td>\n",
       "      <td>0.158494</td>\n",
       "      <td>0.501107</td>\n",
       "    </tr>\n",
       "    <tr>\n",
       "      <td>...</td>\n",
       "      <td>...</td>\n",
       "      <td>...</td>\n",
       "      <td>...</td>\n",
       "    </tr>\n",
       "    <tr>\n",
       "      <td>1126406027400892416</td>\n",
       "      <td>1.131202e+18</td>\n",
       "      <td>2.857143</td>\n",
       "      <td>0.080000</td>\n",
       "    </tr>\n",
       "    <tr>\n",
       "      <td>1127904814908592129</td>\n",
       "      <td>1.130696e+18</td>\n",
       "      <td>0.035032</td>\n",
       "      <td>0.210191</td>\n",
       "    </tr>\n",
       "    <tr>\n",
       "      <td>1128461955168120833</td>\n",
       "      <td>1.131107e+18</td>\n",
       "      <td>9.342175</td>\n",
       "      <td>0.238727</td>\n",
       "    </tr>\n",
       "    <tr>\n",
       "      <td>1130249220760461312</td>\n",
       "      <td>1.132957e+18</td>\n",
       "      <td>0.172662</td>\n",
       "      <td>0.392086</td>\n",
       "    </tr>\n",
       "    <tr>\n",
       "      <td>1131798343825416197</td>\n",
       "      <td>1.133904e+18</td>\n",
       "      <td>0.887850</td>\n",
       "      <td>0.177570</td>\n",
       "    </tr>\n",
       "  </tbody>\n",
       "</table>\n",
       "<p>2001 rows × 3 columns</p>\n",
       "</div>"
      ],
      "text/plain": [
       "<div>\n",
       "<style scoped>\n",
       "    .dataframe tbody tr th:only-of-type {\n",
       "        vertical-align: middle;\n",
       "    }\n",
       "\n",
       "    .dataframe tbody tr th {\n",
       "        vertical-align: top;\n",
       "    }\n",
       "\n",
       "    .dataframe thead th {\n",
       "        text-align: right;\n",
       "    }\n",
       "</style>\n",
       "<table border=\"1\" class=\"dataframe\">\n",
       "  <thead>\n",
       "    <tr style=\"text-align: right;\">\n",
       "      <th></th>\n",
       "      <th>tweetid</th>\n",
       "      <th>favorite_count</th>\n",
       "      <th>retweet</th>\n",
       "    </tr>\n",
       "    <tr>\n",
       "      <th>userid</th>\n",
       "      <th></th>\n",
       "      <th></th>\n",
       "      <th></th>\n",
       "    </tr>\n",
       "  </thead>\n",
       "  <tbody>\n",
       "    <tr>\n",
       "      <td>802310</td>\n",
       "      <td>9.635461e+17</td>\n",
       "      <td>1.319419</td>\n",
       "      <td>0.064007</td>\n",
       "    </tr>\n",
       "    <tr>\n",
       "      <td>5882452</td>\n",
       "      <td>1.120518e+18</td>\n",
       "      <td>2.510940</td>\n",
       "      <td>0.118336</td>\n",
       "    </tr>\n",
       "    <tr>\n",
       "      <td>6111852</td>\n",
       "      <td>1.111515e+18</td>\n",
       "      <td>0.327436</td>\n",
       "      <td>0.352266</td>\n",
       "    </tr>\n",
       "    <tr>\n",
       "      <td>9426292</td>\n",
       "      <td>1.131266e+18</td>\n",
       "      <td>1.336754</td>\n",
       "      <td>0.553172</td>\n",
       "    </tr>\n",
       "    <tr>\n",
       "      <td>10857562</td>\n",
       "      <td>9.841916e+17</td>\n",
       "      <td>0.158494</td>\n",
       "      <td>0.501107</td>\n",
       "    </tr>\n",
       "    <tr>\n",
       "      <td>...</td>\n",
       "      <td>...</td>\n",
       "      <td>...</td>\n",
       "      <td>...</td>\n",
       "    </tr>\n",
       "    <tr>\n",
       "      <td>1126406027400892416</td>\n",
       "      <td>1.131202e+18</td>\n",
       "      <td>2.857143</td>\n",
       "      <td>0.080000</td>\n",
       "    </tr>\n",
       "    <tr>\n",
       "      <td>1127904814908592129</td>\n",
       "      <td>1.130696e+18</td>\n",
       "      <td>0.035032</td>\n",
       "      <td>0.210191</td>\n",
       "    </tr>\n",
       "    <tr>\n",
       "      <td>1128461955168120833</td>\n",
       "      <td>1.131107e+18</td>\n",
       "      <td>9.342175</td>\n",
       "      <td>0.238727</td>\n",
       "    </tr>\n",
       "    <tr>\n",
       "      <td>1130249220760461312</td>\n",
       "      <td>1.132957e+18</td>\n",
       "      <td>0.172662</td>\n",
       "      <td>0.392086</td>\n",
       "    </tr>\n",
       "    <tr>\n",
       "      <td>1131798343825416197</td>\n",
       "      <td>1.133904e+18</td>\n",
       "      <td>0.887850</td>\n",
       "      <td>0.177570</td>\n",
       "    </tr>\n",
       "  </tbody>\n",
       "</table>\n",
       "<p>2001 rows × 3 columns</p>\n",
       "</div>"
      ]
     },
     "execution_count": 60,
     "metadata": {},
     "output_type": "execute_result"
    }
   ],
   "source": [
    "depress.groupby('userid').mean()"
   ]
  },
  {
   "cell_type": "code",
   "execution_count": 106,
   "metadata": {
    "collapsed": true
   },
   "outputs": [
    {
     "data": {
      "text/html": [
       "<div>\n",
       "<style scoped>\n",
       "    .dataframe tbody tr th:only-of-type {\n",
       "        vertical-align: middle;\n",
       "    }\n",
       "\n",
       "    .dataframe tbody tr th {\n",
       "        vertical-align: top;\n",
       "    }\n",
       "\n",
       "    .dataframe thead th {\n",
       "        text-align: right;\n",
       "    }\n",
       "</style>\n",
       "<table border=\"1\" class=\"dataframe\">\n",
       "  <thead>\n",
       "    <tr style=\"text-align: right;\">\n",
       "      <th></th>\n",
       "      <th>tweetid</th>\n",
       "      <th>favorite_count</th>\n",
       "      <th>words</th>\n",
       "      <th>retweet</th>\n",
       "    </tr>\n",
       "    <tr>\n",
       "      <th>userid</th>\n",
       "      <th></th>\n",
       "      <th></th>\n",
       "      <th></th>\n",
       "      <th></th>\n",
       "    </tr>\n",
       "  </thead>\n",
       "  <tbody>\n",
       "    <tr>\n",
       "      <td>93420016</td>\n",
       "      <td>1.124339e+18</td>\n",
       "      <td>5.306691</td>\n",
       "      <td>10.252788</td>\n",
       "      <td>0.939591</td>\n",
       "    </tr>\n",
       "    <tr>\n",
       "      <td>109664499</td>\n",
       "      <td>1.133619e+18</td>\n",
       "      <td>11.899907</td>\n",
       "      <td>12.820329</td>\n",
       "      <td>0.903948</td>\n",
       "    </tr>\n",
       "    <tr>\n",
       "      <td>224468287</td>\n",
       "      <td>1.119878e+18</td>\n",
       "      <td>207.323921</td>\n",
       "      <td>8.094860</td>\n",
       "      <td>0.974302</td>\n",
       "    </tr>\n",
       "    <tr>\n",
       "      <td>394165991</td>\n",
       "      <td>1.032343e+18</td>\n",
       "      <td>0.016859</td>\n",
       "      <td>13.022791</td>\n",
       "      <td>0.941617</td>\n",
       "    </tr>\n",
       "    <tr>\n",
       "      <td>1018612758</td>\n",
       "      <td>1.123654e+18</td>\n",
       "      <td>0.091274</td>\n",
       "      <td>18.002158</td>\n",
       "      <td>0.979648</td>\n",
       "    </tr>\n",
       "    <tr>\n",
       "      <td>2374657922</td>\n",
       "      <td>9.723184e+17</td>\n",
       "      <td>0.180259</td>\n",
       "      <td>14.466082</td>\n",
       "      <td>0.960366</td>\n",
       "    </tr>\n",
       "    <tr>\n",
       "      <td>2481677201</td>\n",
       "      <td>1.034195e+18</td>\n",
       "      <td>0.185063</td>\n",
       "      <td>13.640912</td>\n",
       "      <td>0.959897</td>\n",
       "    </tr>\n",
       "    <tr>\n",
       "      <td>2863183772</td>\n",
       "      <td>1.086400e+18</td>\n",
       "      <td>0.121501</td>\n",
       "      <td>15.466250</td>\n",
       "      <td>0.925255</td>\n",
       "    </tr>\n",
       "    <tr>\n",
       "      <td>3261912925</td>\n",
       "      <td>1.131495e+18</td>\n",
       "      <td>0.291211</td>\n",
       "      <td>19.353144</td>\n",
       "      <td>0.968095</td>\n",
       "    </tr>\n",
       "    <tr>\n",
       "      <td>704546872157810688</td>\n",
       "      <td>1.096404e+18</td>\n",
       "      <td>0.270031</td>\n",
       "      <td>14.050801</td>\n",
       "      <td>0.934879</td>\n",
       "    </tr>\n",
       "    <tr>\n",
       "      <td>819716308698824704</td>\n",
       "      <td>1.019267e+18</td>\n",
       "      <td>0.207161</td>\n",
       "      <td>16.407380</td>\n",
       "      <td>0.906467</td>\n",
       "    </tr>\n",
       "    <tr>\n",
       "      <td>861061686052126720</td>\n",
       "      <td>1.102560e+18</td>\n",
       "      <td>1.944444</td>\n",
       "      <td>17.894130</td>\n",
       "      <td>0.933962</td>\n",
       "    </tr>\n",
       "    <tr>\n",
       "      <td>898262404185894912</td>\n",
       "      <td>1.095485e+18</td>\n",
       "      <td>2.563433</td>\n",
       "      <td>10.798507</td>\n",
       "      <td>0.910448</td>\n",
       "    </tr>\n",
       "    <tr>\n",
       "      <td>925619810855243777</td>\n",
       "      <td>1.131905e+18</td>\n",
       "      <td>11.213454</td>\n",
       "      <td>10.005175</td>\n",
       "      <td>0.966041</td>\n",
       "    </tr>\n",
       "    <tr>\n",
       "      <td>939589472307634178</td>\n",
       "      <td>1.136459e+18</td>\n",
       "      <td>1.062056</td>\n",
       "      <td>13.513739</td>\n",
       "      <td>0.966039</td>\n",
       "    </tr>\n",
       "    <tr>\n",
       "      <td>1002832784480722944</td>\n",
       "      <td>1.110721e+18</td>\n",
       "      <td>0.103938</td>\n",
       "      <td>12.335700</td>\n",
       "      <td>0.919948</td>\n",
       "    </tr>\n",
       "    <tr>\n",
       "      <td>1129114223089524736</td>\n",
       "      <td>1.135030e+18</td>\n",
       "      <td>0.600687</td>\n",
       "      <td>19.868873</td>\n",
       "      <td>0.982204</td>\n",
       "    </tr>\n",
       "  </tbody>\n",
       "</table>\n",
       "</div>"
      ],
      "text/plain": [
       "<div>\n",
       "<style scoped>\n",
       "    .dataframe tbody tr th:only-of-type {\n",
       "        vertical-align: middle;\n",
       "    }\n",
       "\n",
       "    .dataframe tbody tr th {\n",
       "        vertical-align: top;\n",
       "    }\n",
       "\n",
       "    .dataframe thead th {\n",
       "        text-align: right;\n",
       "    }\n",
       "</style>\n",
       "<table border=\"1\" class=\"dataframe\">\n",
       "  <thead>\n",
       "    <tr style=\"text-align: right;\">\n",
       "      <th></th>\n",
       "      <th>tweetid</th>\n",
       "      <th>favorite_count</th>\n",
       "      <th>words</th>\n",
       "      <th>retweet</th>\n",
       "    </tr>\n",
       "    <tr>\n",
       "      <th>userid</th>\n",
       "      <th></th>\n",
       "      <th></th>\n",
       "      <th></th>\n",
       "      <th></th>\n",
       "    </tr>\n",
       "  </thead>\n",
       "  <tbody>\n",
       "    <tr>\n",
       "      <td>93420016</td>\n",
       "      <td>1.124339e+18</td>\n",
       "      <td>5.306691</td>\n",
       "      <td>10.252788</td>\n",
       "      <td>0.939591</td>\n",
       "    </tr>\n",
       "    <tr>\n",
       "      <td>109664499</td>\n",
       "      <td>1.133619e+18</td>\n",
       "      <td>11.899907</td>\n",
       "      <td>12.820329</td>\n",
       "      <td>0.903948</td>\n",
       "    </tr>\n",
       "    <tr>\n",
       "      <td>224468287</td>\n",
       "      <td>1.119878e+18</td>\n",
       "      <td>207.323921</td>\n",
       "      <td>8.094860</td>\n",
       "      <td>0.974302</td>\n",
       "    </tr>\n",
       "    <tr>\n",
       "      <td>394165991</td>\n",
       "      <td>1.032343e+18</td>\n",
       "      <td>0.016859</td>\n",
       "      <td>13.022791</td>\n",
       "      <td>0.941617</td>\n",
       "    </tr>\n",
       "    <tr>\n",
       "      <td>1018612758</td>\n",
       "      <td>1.123654e+18</td>\n",
       "      <td>0.091274</td>\n",
       "      <td>18.002158</td>\n",
       "      <td>0.979648</td>\n",
       "    </tr>\n",
       "    <tr>\n",
       "      <td>2374657922</td>\n",
       "      <td>9.723184e+17</td>\n",
       "      <td>0.180259</td>\n",
       "      <td>14.466082</td>\n",
       "      <td>0.960366</td>\n",
       "    </tr>\n",
       "    <tr>\n",
       "      <td>2481677201</td>\n",
       "      <td>1.034195e+18</td>\n",
       "      <td>0.185063</td>\n",
       "      <td>13.640912</td>\n",
       "      <td>0.959897</td>\n",
       "    </tr>\n",
       "    <tr>\n",
       "      <td>2863183772</td>\n",
       "      <td>1.086400e+18</td>\n",
       "      <td>0.121501</td>\n",
       "      <td>15.466250</td>\n",
       "      <td>0.925255</td>\n",
       "    </tr>\n",
       "    <tr>\n",
       "      <td>3261912925</td>\n",
       "      <td>1.131495e+18</td>\n",
       "      <td>0.291211</td>\n",
       "      <td>19.353144</td>\n",
       "      <td>0.968095</td>\n",
       "    </tr>\n",
       "    <tr>\n",
       "      <td>704546872157810688</td>\n",
       "      <td>1.096404e+18</td>\n",
       "      <td>0.270031</td>\n",
       "      <td>14.050801</td>\n",
       "      <td>0.934879</td>\n",
       "    </tr>\n",
       "    <tr>\n",
       "      <td>819716308698824704</td>\n",
       "      <td>1.019267e+18</td>\n",
       "      <td>0.207161</td>\n",
       "      <td>16.407380</td>\n",
       "      <td>0.906467</td>\n",
       "    </tr>\n",
       "    <tr>\n",
       "      <td>861061686052126720</td>\n",
       "      <td>1.102560e+18</td>\n",
       "      <td>1.944444</td>\n",
       "      <td>17.894130</td>\n",
       "      <td>0.933962</td>\n",
       "    </tr>\n",
       "    <tr>\n",
       "      <td>898262404185894912</td>\n",
       "      <td>1.095485e+18</td>\n",
       "      <td>2.563433</td>\n",
       "      <td>10.798507</td>\n",
       "      <td>0.910448</td>\n",
       "    </tr>\n",
       "    <tr>\n",
       "      <td>925619810855243777</td>\n",
       "      <td>1.131905e+18</td>\n",
       "      <td>11.213454</td>\n",
       "      <td>10.005175</td>\n",
       "      <td>0.966041</td>\n",
       "    </tr>\n",
       "    <tr>\n",
       "      <td>939589472307634178</td>\n",
       "      <td>1.136459e+18</td>\n",
       "      <td>1.062056</td>\n",
       "      <td>13.513739</td>\n",
       "      <td>0.966039</td>\n",
       "    </tr>\n",
       "    <tr>\n",
       "      <td>1002832784480722944</td>\n",
       "      <td>1.110721e+18</td>\n",
       "      <td>0.103938</td>\n",
       "      <td>12.335700</td>\n",
       "      <td>0.919948</td>\n",
       "    </tr>\n",
       "    <tr>\n",
       "      <td>1129114223089524736</td>\n",
       "      <td>1.135030e+18</td>\n",
       "      <td>0.600687</td>\n",
       "      <td>19.868873</td>\n",
       "      <td>0.982204</td>\n",
       "    </tr>\n",
       "  </tbody>\n",
       "</table>\n",
       "</div>"
      ]
     },
     "execution_count": 106,
     "metadata": {},
     "output_type": "execute_result"
    }
   ],
   "source": [
    "xxx = control.groupby('userid').mean()\n",
    "xxx[xxx.retweet > 0.9]"
   ]
  },
  {
   "cell_type": "code",
   "execution_count": 186,
   "metadata": {},
   "outputs": [
    {
     "data": {
      "text/plain": [
       "<matplotlib.axes._subplots.AxesSubplot at 0x7f8302abc860>"
      ]
     },
     "execution_count": 186,
     "metadata": {},
     "output_type": "execute_result"
    },
    {
     "data": {
      "image/png": "[encoded data removed]",
      "text/plain": [
       "<Figure size 432x288 with 1 Axes>"
      ]
     },
     "metadata": {},
     "output_type": "display_data"
    }
   ],
   "source": [
    "c = control.groupby('userid').mean().retweet.values\n",
    "c = pd.DataFrame(c, columns=['Retweet'])\n",
    "c['Class'] = 'Control'\n",
    "\n",
    "d = depress.groupby('userid').mean().retweet.values\n",
    "d = pd.DataFrame(d, columns=['Retweet'])\n",
    "d['Class'] = 'Depression'\n",
    "\n",
    "comb = pd.concat([c, d]).reset_index(drop=True)\n",
    "\n",
    "sns.boxplot(x=\"Class\", y=\"Retweet\", data=comb, showfliers=False)"
   ]
  },
  {
   "cell_type": "code",
   "execution_count": 187,
   "metadata": {},
   "outputs": [
    {
     "data": {
      "text/plain": [
       "<matplotlib.axes._subplots.AxesSubplot at 0x7f83024f7748>"
      ]
     },
     "execution_count": 187,
     "metadata": {},
     "output_type": "execute_result"
    },
    {
     "data": {
      "image/png": "[encoded data removed]",
      "text/plain": [
       "<Figure size 432x288 with 1 Axes>"
      ]
     },
     "metadata": {},
     "output_type": "display_data"
    }
   ],
   "source": [
    "c = control.groupby('userid').mean().words.values\n",
    "c = pd.DataFrame(c, columns=['Words'])\n",
    "c['Class'] = 'Control'\n",
    "\n",
    "d = depress.groupby('userid').mean().words.values\n",
    "d = pd.DataFrame(d, columns=['Words'])\n",
    "d['Class'] = 'Depression'\n",
    "\n",
    "comb = pd.concat([c, d]).reset_index(drop=True)\n",
    "\n",
    "sns.boxplot(x=\"Class\", y=\"Words\", data=comb, showfliers=False)"
   ]
  },
  {
   "cell_type": "code",
   "execution_count": 180,
   "metadata": {},
   "outputs": [
    {
     "name": "stderr",
     "output_type": "stream",
     "text": [
      "/home/bright/venv/lib/python3.6/site-packages/ipykernel_launcher.py:22: MatplotlibDeprecationWarning: Non-1D inputs to pie() are currently squeeze()d, but this behavior is deprecated since 3.1 and will be removed in 3.3; pass a 1D array instead.\n"
     ]
    },
    {
     "data": {
      "text/plain": [
       "[Text(0.5, 1.0, 'The number of users and tweets'), None]"
      ]
     },
     "execution_count": 180,
     "metadata": {},
     "output_type": "execute_result"
    },
    {
     "data": {
      "image/png": "[encoded data removed]",
      "text/plain": [
       "<Figure size 432x288 with 1 Axes>"
      ]
     },
     "metadata": {},
     "output_type": "display_data"
    }
   ],
   "source": [
    "def func(pct, allvals):\n",
    "    absolute = float(pct/1000.*np.sum(allvals))\n",
    "    return \"{:.1f} M\".format(absolute)\n",
    "\n",
    "\n",
    "def func2(pct, allvals):\n",
    "    absolute = int(pct/100.*np.sum(allvals))\n",
    "    return \"{:d}\".format(absolute)\n",
    "\n",
    "\n",
    "fig, ax = plt.subplots()\n",
    "\n",
    "size = 0.3\n",
    "vals = np.array([[41, 49]])\n",
    "user_nb = np.array([1755, 2001])\n",
    "\n",
    "cmap = plt.get_cmap(\"tab20c\")\n",
    "outer_colors = cmap(np.arange(3)*4)\n",
    "inner_colors = cmap(np.array([2, 6, 9, 10]))\n",
    "\n",
    "ax.pie(vals, radius=1, colors=outer_colors, autopct=lambda pct: func(pct, vals), pctdistance=.85,\n",
    "       wedgeprops=dict(width=size, edgecolor='w'))\n",
    "\n",
    "ax.pie(user_nb, radius=1-size, colors=inner_colors, autopct=lambda pct: func2(pct, user_nb), pctdistance=.75,\n",
    "       wedgeprops=dict(width=size, edgecolor='w'))\n",
    "\n",
    "ax.set(aspect=\"equal\", title='The number of users and tweets')\n",
    "# plt.show()"
   ]
  },
  {
   "cell_type": "code",
   "execution_count": 219,
   "metadata": {},
   "outputs": [
    {
     "name": "stderr",
     "output_type": "stream",
     "text": [
      "/home/bright/venv/lib/python3.6/site-packages/ipykernel_launcher.py:23: MatplotlibDeprecationWarning: Non-1D inputs to pie() are currently squeeze()d, but this behavior is deprecated since 3.1 and will be removed in 3.3; pass a 1D array instead.\n"
     ]
    },
    {
     "data": {
      "image/png": "[encoded data removed]",
      "text/plain": [
       "<Figure size 1080x360 with 3 Axes>"
      ]
     },
     "metadata": {},
     "output_type": "display_data"
    }
   ],
   "source": [
    "f, axes = plt.subplots(1, 3, figsize=(15, 5))\n",
    "\n",
    "\n",
    "def func(pct, allvals):\n",
    "    absolute = float(pct/1000.*np.sum(allvals))\n",
    "    return \"{:.1f} M\".format(absolute)\n",
    "\n",
    "\n",
    "def func2(pct, allvals):\n",
    "    absolute = int(pct/100.*np.sum(allvals))\n",
    "    return \"{:d}\".format(absolute)\n",
    "\n",
    "\n",
    "size = 0.3\n",
    "vals = np.array([[41, 49]])\n",
    "user_nb = np.array([1755, 2001])\n",
    "\n",
    "cmap = plt.get_cmap(\"tab20c\")\n",
    "outer_colors = cmap(np.arange(3)*4)\n",
    "inner_colors = cmap(np.array([2, 6, 9, 10]))\n",
    "\n",
    "axes[0].pie(vals, radius=1, colors=outer_colors, autopct=lambda pct: func(pct, vals), pctdistance=.85,\n",
    "       wedgeprops=dict(width=size, edgecolor='w'))\n",
    "\n",
    "axes[0].pie(user_nb, radius=1-size, colors=inner_colors, autopct=lambda pct: func2(pct, user_nb), pctdistance=.75,\n",
    "       wedgeprops=dict(width=size, edgecolor='w'))\n",
    "\n",
    "axes[0].set(aspect=\"equal\")\n",
    "axes[0].set_title('The Number of Users and Tweets', y=1.05)\n",
    "\n",
    "c = control.groupby('userid').mean().retweet.values\n",
    "c = pd.DataFrame(c, columns=['Retweet'])\n",
    "c['Class'] = 'Control'\n",
    "\n",
    "d = depress.groupby('userid').mean().retweet.values\n",
    "d = pd.DataFrame(d, columns=['Retweet'])\n",
    "d['Class'] = 'Depression'\n",
    "\n",
    "comb = pd.concat([c, d]).reset_index(drop=True)\n",
    "\n",
    "sns.boxplot(x=\"Class\", y=\"Retweet\", data=comb, showfliers=False, ax=axes[2]).set_title(\"The Ratio of Retweet to Tweets\")\n",
    "axes[2].set_ylabel('Ratio')\n",
    "\n",
    "c = control.groupby('userid').mean().words.values\n",
    "c = pd.DataFrame(c, columns=['Words'])\n",
    "c['Class'] = 'Control'\n",
    "\n",
    "d = depress.groupby('userid').mean().words.values\n",
    "d = pd.DataFrame(d, columns=['Words'])\n",
    "d['Class'] = 'Depression'\n",
    "\n",
    "comb = pd.concat([c, d]).reset_index(drop=True)\n",
    "\n",
    "sns.boxplot(x=\"Class\", y=\"Words\", data=comb, showfliers=False, ax=axes[1]).set_title(\"The Number of Words\")\n",
    "\n",
    "f.savefig('data_des', dpi='figure')"
   ]
  },
  {
   "cell_type": "code",
   "execution_count": null,
   "metadata": {},
   "outputs": [],
   "source": []
  }
 ],
 "metadata": {
  "kernelspec": {
   "display_name": "Python 3",
   "language": "python",
   "name": "python3"
  },
  "language_info": {
   "codemirror_mode": {
    "name": "ipython",
    "version": 3
   },
   "file_extension": ".py",
   "mimetype": "text/x-python",
   "name": "python",
   "nbconvert_exporter": "python",
   "pygments_lexer": "ipython3",
   "version": "3.7.6"
  }
 },
 "nbformat": 4,
 "nbformat_minor": 1
}
